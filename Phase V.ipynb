{
 "cells": [
  {
   "cell_type": "markdown",
   "metadata": {},
   "source": [
    "**Providence College Turnaround** <br /> \n",
    "I am a big Providence College Basketball fan, and they have recently seen a big turnaround as a team. Starting from the 2018 season, and culminating in an incredible 6 game winning streak at the end of the 2019 season, Providence College Men's Basketball saw their season net ranking go from 157 (December Net Rankings) to 37 (Final March Net Rankings), which next to guarenteed their spot in the NCAA Men's Basketball Tournament, or March Madness, before it was cancelled. As a fan of the team, there were clear attributes to PC's game that lead to success. Specifically, increased offensive rebounding and defensive efficiency (expected points allowed per 100 possessions). My goal with this project is to: \n",
    "1. See if Providence College's turnaround had a significant correlation to their increase in offensive rebounding and defensive efficiency(opponent fg attempts and percentage) \n",
    "2. To see if any other teams made a similar jump in ranking over this same period of time\n",
    "3. To see what statistics lead to said tems jump in ranking\n",
    "4. Finally, to see if we can define certain statistics that help mediocre teams turn into March Madness contenders"
   ]
  },
  {
   "cell_type": "markdown",
   "metadata": {},
   "source": [
    "## My Findings:\n",
    "Through my research I found a strong correlation between defensive efficiency and game results as well as total rebound percentage and game results. The defensive efficiency findings turned out to be significant, other than Creighton's results. <br /> \n",
    "<br /> \n",
    "For the players, I found that their jumps in total rebounding percentage were statistically significant compared to their career averages, but I could not test their jump in statistics in comparison to results."
   ]
  },
  {
   "cell_type": "markdown",
   "metadata": {},
   "source": [
    "## My two hypothesis: <br />\n",
    "1. I tested multiple statistics (defensive and rebounding) with all of the teams I found that made a large jump over the two seasons in terms of rankings. I made a huge data set of all of the teams data and split it up into wins and losses to see if there is a correlation between success and the grouped statistics I will be testing (I will be using the linear regression fit method here as well).  \n",
    "2. I tested the hypothesis that an increase in any players statistics (specifically defensive and rebounding stats) will lead to team success over time. I used the linear regression fit with multiple statistics as well as individual statistics for each player by looping a players data frame and creating a fit for each player specifically on Providence, but potentially on other teams. "
   ]
  },
  {
   "cell_type": "code",
   "execution_count": 1,
   "metadata": {},
   "outputs": [],
   "source": [
    "import pandas as pd \n",
    "import numpy as np\n",
    "import matplotlib.pyplot as plt\n",
    "import seaborn as sb\n",
    "from sklearn.linear_model import LinearRegression\n",
    "from sklearn.linear_model import LogisticRegression"
   ]
  },
  {
   "cell_type": "code",
   "execution_count": 2,
   "metadata": {},
   "outputs": [],
   "source": [
    "##Data Cleaning: \n",
    "    ##Providence 2019 and 2018 seasons: \n",
    "season_2019 = pd.read_excel(\"season2.xls\")\n",
    "season_2018 = pd.read_excel(\"season1.xls\")\n",
    "columns_2019= season_2019.iloc[0]\n",
    "columns_2018 = season_2018.iloc[0]\n",
    "season_2019.columns = columns_2019\n",
    "season_2018.columns = columns_2018 \n",
    "season_2019 = season_2019.drop([0])\n",
    "season_2018 = season_2018.drop([0])\n",
    "season_2019 = season_2019.fillna(\"Home\")\n",
    "season_2018 = season_2018.fillna(\"Home\")\n",
    "season_2018.columns.values[2] = \"Game Site\" \n",
    "season_2019.columns.values[2] = \"Game Site\"\n",
    "season_2018.columns.values[23]=\"Missing column\"\n",
    "season_2019.columns.values[23]=\"Missing column\"\n",
    "index = list(range(len(season_2019)))\n",
    "season_2019 = season_2019.reset_index()\n",
    "index = list(range(len(season_2018)))\n",
    "season_2018 = season_2018.reset_index()\n",
    "season_2019.drop(columns = \"index\")\n",
    "season_2018.drop(columns = \"index\")\n",
    "season_2019 = season_2019.drop(columns=\"Missing column\")\n",
    "season_2018 = season_2018.drop(columns=\"Missing column\")\n",
    "i=24\n",
    "while(i<len(season_2019.columns.values)):\n",
    "    season_2019.columns.values[i] = \"O\"+str(season_2019.columns.values[i])\n",
    "    i+=1\n",
    "i=24\n",
    "while(i<len(season_2018.columns.values)):\n",
    "    season_2018.columns.values[i] = \"O\"+str(season_2018.columns.values[i])\n",
    "    i+=1\n",
    "combo = season_2019.append(season_2018)\n",
    "index = list(range(len(combo)))\n",
    "combo = combo.reset_index()\n",
    "combo.columns.values[4] = \"Game Site\"\n",
    "combo.columns.values[5] = \"Opp_name\"\n",
    "combo[\"reb_diff\"]=combo[\"TRB\"]-combo[\"OTRB\"]\n",
    "combo[\"numeric\"] = [None]*len(combo)\n",
    "for i in range(len(combo)):\n",
    "    if \"W\" in combo[\"W/L\"][i]:\n",
    "        combo.loc[i,\"numeric\"] = 1\n",
    "    else:\n",
    "        combo.loc[i,\"numeric\"] = 0\n",
    "combo[\"numeric\"] = combo.numeric.astype(float)\n",
    "combo[\"reb_diff\"] = combo.reb_diff.astype(float)\n",
    "combo[\"Tm\"] = combo.Tm.astype(float) ##1\n",
    "combo[\"Opp\"] = combo.Opp.astype(float) \n",
    "combo[\"FG\"] = combo.FG.astype(float)\n",
    "combo[\"FGA\"] = combo.FGA.astype(float)\n",
    "combo[\"FG%\"] = combo[\"FG%\"].astype(float) ##5\n",
    "combo[\"3P\"] = combo[\"3P\"].astype(float)\n",
    "combo[\"3PA\"] = combo[\"3PA\"].astype(float)\n",
    "combo[\"3P%\"] = combo[\"3P%\"].astype(float)\n",
    "combo[\"FT\"] = combo.FT.astype(float)\n",
    "combo[\"FTA\"] = combo.FTA.astype(float)\n",
    "combo[\"FT%\"] = combo[\"FT%\"].astype(float) ##10\n",
    "combo[\"ORB\"] = combo.ORB.astype(float)\n",
    "combo[\"TRB\"] = combo.TRB.astype(float)\n",
    "combo[\"AST\"] = combo.AST.astype(float)\n",
    "combo[\"STL\"] = combo.STL.astype(float)\n",
    "combo[\"BLK\"] = combo.BLK.astype(float) ##15\n",
    "combo[\"TOV\"] = combo.TOV.astype(float)\n",
    "combo[\"PF\"] = combo.PF.astype(float)\n",
    "combo[\"OFG\"] = combo.OFG.astype(float)\n",
    "combo[\"OFGA\"] = combo.OFGA.astype(float)\n",
    "combo[\"OFG%\"] = combo[\"OFG%\"].astype(float) ##20\n",
    "combo[\"O3P\"] = combo[\"O3P\"].astype(float)\n",
    "combo[\"O3PA\"] = combo.O3PA.astype(float)\n",
    "combo[\"O3P%\"] = combo[\"O3P%\"].astype(float)\n",
    "combo[\"OFT\"] = combo.OFT.astype(float)\n",
    "combo[\"OFTA\"] = combo.OFTA.astype(float)\n",
    "combo[\"OFT%\"] = combo[\"OFT%\"].astype(float) ##10\n",
    "combo[\"OORB\"] = combo.OORB.astype(float)\n",
    "combo[\"OTRB\"] = combo.OTRB.astype(float)\n",
    "combo[\"OAST\"] = combo.OAST.astype(float)\n",
    "combo[\"OSTL\"] = combo.OSTL.astype(float)\n",
    "combo[\"OBLK\"] = combo.OBLK.astype(float) ##15\n",
    "combo[\"OTOV\"] = combo.OTOV.astype(float)\n",
    "combo[\"OPF\"] = combo.OPF.astype(float)\n",
    "combo[\"G\"] = combo.G.astype(str)\n",
    "combo[\"Game Site\"] = combo[\"Game Site\"].astype(str) ##15\n",
    "combo[\"Opp_name\"] = combo[\"Opp_name\"].astype(str)\n",
    "combo[\"W/L\"] = combo[\"W/L\"].astype(str)\n",
    "    ##2018 and 2019 season final rankings (looking for teams that made similar jumps)\n",
    "rankings_2019_final = pd.read_csv(\"cbb20.csv\")\n",
    "rankings_2018_final = pd.read_csv(\"cbb19.csv\")\n",
    "rank_2018 = [i+1 for i in range(len(rankings_2018_final))]\n",
    "rankings_2018_final[\"RK\"] = rank_2018\n",
    "total_rankings = rankings_2019_final.append(rankings_2018_final)\n",
    "index = list(range(len(total_rankings)))\n",
    "total_rankings = total_rankings.reset_index()\n",
    "total_rankings_diff = total_rankings.groupby(by=\"TEAM\").RK.diff()\n",
    "total_rankings[\"diff\"] = total_rankings_diff\n",
    "##Advanced Stats: \n",
    "P_advanced = pd.read_excel(\"P_advanced.xls\")\n",
    "C_advanced = pd.read_excel(\"C_advanced.xls\")\n",
    "B_advanced = pd.read_excel(\"B_advanced.xls\")\n",
    "D_advanced = pd.read_excel(\"D_advanced.xls\")\n",
    "WV_advanced = pd.read_excel(\"WV_advanced.xls\")\n",
    "columns_P= P_advanced.iloc[0]\n",
    "columns_C = C_advanced.iloc[0]\n",
    "columns_B = B_advanced.iloc[0]\n",
    "columns_D = D_advanced.iloc[0]\n",
    "columns_WV = WV_advanced.iloc[0]\n",
    "P_advanced.columns = columns_P\n",
    "C_advanced.columns = columns_C\n",
    "B_advanced.columns = columns_B\n",
    "D_advanced.columns = columns_D\n",
    "WV_advanced.columns = columns_WV\n",
    "P_advanced = P_advanced.drop([0])\n",
    "C_advanced = C_advanced.drop([0])\n",
    "B_advanced = B_advanced.drop([0])\n",
    "D_advanced = D_advanced.drop([0])\n",
    "WV_advanced = WV_advanced.drop([0])\n",
    "index = list(range(len(P_advanced)))\n",
    "P_advanced = P_advanced.reset_index()\n",
    "index = list(range(len(C_advanced)))\n",
    "C_advanced = C_advanced.reset_index()\n",
    "index = list(range(len(B_advanced)))\n",
    "B_advanced = B_advanced.reset_index()\n",
    "index = list(range(len(D_advanced)))\n",
    "D_advanced = D_advanced.reset_index()\n",
    "index = list(range(len(WV_advanced)))\n",
    "WV_advanced = WV_advanced.reset_index()\n",
    "P_advanced = P_advanced.drop(columns = \"index\")\n",
    "C_advanced = C_advanced.drop(columns = \"index\")\n",
    "B_advanced = B_advanced.drop(columns = \"index\")\n",
    "D_advanced = D_advanced.drop(columns = \"index\")\n",
    "WV_advanced = WV_advanced.drop(columns = \"index\")\n",
    "P_advanced[\"Team\"] = \"P\"\n",
    "C_advanced[\"Team\"] = \"C\"\n",
    "B_advanced[\"Team\"] = \"B\"\n",
    "D_advanced[\"Team\"] = \"D\"\n",
    "WV_advanced[\"Team\"] = \"WV\"\n",
    "advanced_combo = P_advanced.append([C_advanced, B_advanced, D_advanced, WV_advanced])\n",
    "advanced_combo.columns.values[2] = \"Game Site\"\n",
    "advanced_combo.columns.values[17]= \"empty\"\n",
    "advanced_combo = advanced_combo.drop(columns = \"empty\")\n",
    "advanced_combo.columns.values[21]= \"empty\"\n",
    "advanced_combo = advanced_combo.drop(columns = \"empty\")\n",
    "i = 21\n",
    "while(i<len(advanced_combo.columns.values)):\n",
    "    advanced_combo.columns.values[i] = \"O\"+str(advanced_combo.columns.values[i])\n",
    "    i+=1\n",
    "index = list(range(len(advanced_combo)))\n",
    "advanced_combo = advanced_combo.reset_index()\n",
    "advanced_combo = advanced_combo.drop(columns=\"index\")\n",
    "advanced_combo[\"numeric\"] = [None]*len(advanced_combo)\n",
    "for i in range(len(advanced_combo)):\n",
    "    if \"W\" in advanced_combo[\"W/L\"][i]:\n",
    "        advanced_combo.loc[i,\"numeric\"] = 1\n",
    "    else:\n",
    "        advanced_combo.loc[i,\"numeric\"] = 0\n",
    "advanced_combo = advanced_combo.fillna(\"H\")\n",
    "advanced_combo.columns.values[3] = \"Opp_name\"\n",
    "advanced_combo.head()\n",
    "advanced_combo[\"numeric\"] = advanced_combo[\"numeric\"].astype(float)\n",
    "advanced_combo[\"Tm\"] = advanced_combo[\"Tm\"].astype(float)\n",
    "advanced_combo[\"Opp\"] = advanced_combo[\"Opp\"].astype(float)\n",
    "advanced_combo[\"ORtg\"] = advanced_combo[\"ORtg\"].astype(float)\n",
    "advanced_combo[\"DRtg\"] = advanced_combo[\"DRtg\"].astype(float)\n",
    "advanced_combo[\"Pace\"] = advanced_combo[\"Pace\"].astype(float)\n",
    "advanced_combo[\"FTr\"] = advanced_combo[\"FTr\"].astype(float)\n",
    "advanced_combo[\"3PAr\"] = advanced_combo[\"3PAr\"].astype(float)\n",
    "advanced_combo[\"TS%\"] = advanced_combo[\"TS%\"].astype(float)\n",
    "advanced_combo[\"TRB%\"] = advanced_combo[\"TRB%\"].astype(float)\n",
    "advanced_combo[\"AST%\"] = advanced_combo[\"AST%\"].astype(float)\n",
    "advanced_combo[\"STL%\"] = advanced_combo[\"STL%\"].astype(float)\n",
    "advanced_combo[\"BLK%\"] = advanced_combo[\"BLK%\"].astype(float)\n",
    "advanced_combo[\"eFG%\"] = advanced_combo[\"eFG%\"].astype(float)\n",
    "advanced_combo[\"TOV%\"] = advanced_combo[\"TOV%\"].astype(float)\n",
    "advanced_combo[\"ORB%\"] = advanced_combo[\"ORB%\"].astype(float)\n",
    "advanced_combo[\"FT/FGA\"] = advanced_combo[\"FT/FGA\"].astype(float)\n",
    "advanced_combo[\"OeFG%\"] = advanced_combo[\"OeFG%\"].astype(float)\n",
    "advanced_combo[\"OTOV%\"] = advanced_combo[\"OTOV%\"].astype(float)\n",
    "advanced_combo[\"ODRB%\"] = advanced_combo[\"ODRB%\"].astype(float)\n",
    "advanced_combo[\"OFT/FGA\"] = advanced_combo[\"OFT/FGA\"].astype(float)\n",
    "## Providence Players: \n",
    "players = pd.read_excel(\"p-players2019.xls\")\n",
    "players[\"rebound rank\"] = players[\"TRB%\"].rank()\n",
    "rebounders = players[players[\"rebound rank\"]>=10]"
   ]
  },
  {
   "cell_type": "markdown",
   "metadata": {},
   "source": [
    "Data Description: <br /> \n",
    "For what purpose was the dataset made? <br />\n",
    "*Sports Reference Datasets: This dataset was created by sports-reference.com, and their stated goal for all of their datasets is: \"A group of sites providing both basic and sabermetric statistics and resources for sports fans everywhere. Our aim is to be the easiest-to-use, fastest, most complete sources for sports statistics anywhere.\"\n",
    "Kaggle: Made to compile all information on college basketball teams from barttovik.com from the last 5 years into one spot. <br /> \n",
    "Who created the dataset (e.g., which team, research group) and on behalf of which entity (e.g., company, institution, organization)? <br />\n",
    "*SportsReference and Andrew Sundberg after getting the data from barttovik.com. <br /> \n",
    "Who funded the creation of the dataset?<br />\n",
    "*SportsReference and Andrew Sundberg<br /> \n",
    "What do the instances that comprise the dataset represent (e.g.,documents, photos, people, countries)? <br /> \n",
    "*Basketball teams/players and their statistics over individual games <br /> \n",
    "How many instances are there in total (of each type, if appropriate)? <br /> \n",
    "*There are hundreds of teams and over 10 players from the data sets I used. <br /> \n",
    "Does the dataset contain all possible instances or is it a sample (not necessarily random) of instances from a larger set? <br /> \n",
    "*It contains all possible instances of games from each selected season. <br /> \n",
    "What data does each instance consist of? <br /> \n",
    "*The instance consists of either season long averages of players or game by game statistics for teams. <br /> \n",
    "Is there a label or target associated with each instance? <br />\n",
    "*No<br /> \n",
    "Is any information missing from individual instances? <br /> \n",
    "*No<br /> \n",
    "Are relationships between individual instances made explicit (e.g., users’ movie ratings, social network links)? <br/>\n",
    "*Yes<br /> \n",
    "Are there recommended data splits (e.g., training, development/validation, testing)? <br />\n",
    "*No <br /> \n",
    "Are there any errors, sources of noise, or redundancies in the dataset? <br /> \n",
    "*No <br /> \n",
    "Is the dataset self-contained, or does it link to or otherwise rely on external resources (e.g., websites, tweets, other datasets)? <br /> \n",
    "*No <br />\n",
    "It is self-contained <br /> \n",
    "*Yes <br />\n",
    "Does the dataset contain data that might be considered confidential (e.g., data that is protected by legal privilege or by doctorpatient confidentiality, data that includes the content of individuals’ non-public communications)? <br />\n",
    "*No <br /> \n",
    "Does the dataset contain data that, if viewed directly, might be offensive, insulting, threatening, or might otherwise cause anxiety? <br /> \n",
    "*No <br /> \n",
    "How was the data associated with each instance acquired? <br /> \n",
    "*Either through direct counting of statistics or calculations based off of those statistics <br /> \n",
    "What mechanisms or procedures were used to collect the data <br /> \n",
    "*Book-keepers or statisticians for specific teams/leagues <br /> \n",
    "If the dataset is a sample from a larger set, what was the sampling strategy <br /> \n",
    "N/A <br /> \n",
    "Who was involved in the data collection process (e.g., students, crowdworkers, contractors) and how were they compensated? <br />\n",
    "*Book-keepers and it is unclear from the data sources <br /> \n",
    "Over what timeframe was the data collected? <br /> \n",
    "*The 2018 and 2019 college basketball seasons. <br /> \n",
    "Were any ethical review processes conducted (e.g., by an institutional review board)? <br /> \n",
    "*No because they are not applicable <br /> \n",
    "Was any preprocessing/cleaning/labeling of the data done? <br />\n",
    "*Yes <br /> \n",
    "Was the “raw” data saved in addition to the preprocessed/cleaned/labeled data <br /> \n",
    "*N/a <br /> \n",
    "Is the software used to preprocess/clean/label the instances available? <br /> \n",
    "*N/a <br /> \n",
    "Has the dataset been used for any tasks already? <br /> \n",
    "*Unclear <br /> \n",
    "Is there a repository that links to any or all papers or systems that use the dataset? <br /> \n",
    "*No<br /> \n",
    "What (other) tasks could the dataset be used for? <br />\n",
    "*N/A <br /> \n",
    "Is there anything about the composition of the dataset or the way it was collected and preprocessed/cleaned/labeled that might impact future uses? <br/> \n",
    "*No <br /> \n",
    "Are there tasks for which the dataset should not be used? <br/> \n",
    "*Any non basketball tasks <br /> \n",
    "\n",
    "## Data explanation: \n",
    "My datasets were either from Kaggle or SportsReference, and they are made up of basketball statistics from the 2018 and 2019 seasons. My three data sets from sports reference were a compilation of Providence College's basic statistics from the 2018-2019 seasons (ie: rebounds, fg%, etc.), a compilation of sabermetric statistics from Providence College, Creighton University, Butler University, Dayton University, and University of West Virginia from the 2019 season (ie: defensive efficiency, total rebound percentage, etc.), and a data set of Providence's player's sabermetric statistics from the 2019 season. <br /> \n",
    "\n",
    "My dataset, which I got from Kaggle, I only used to find teams that had large jumps in rankings from the 2018-2019 season, but it included season long data from barttorvik, which is an independent basketball statistics website. "
   ]
  },
  {
   "cell_type": "markdown",
   "metadata": {},
   "source": [
    "## Exploratory Data Analysis:"
   ]
  },
  {
   "cell_type": "code",
   "execution_count": 5,
   "metadata": {},
   "outputs": [
    {
     "data": {
      "text/plain": [
       "Text(0.5, 1.0, 'Offensive Rebounds vs. Game Date')"
      ]
     },
     "execution_count": 5,
     "metadata": {},
     "output_type": "execute_result"
    },
    {
     "data": {
      "image/png": "[encoded data removed]",
      "text/plain": [
       "<Figure size 432x288 with 1 Axes>"
      ]
     },
     "metadata": {
      "needs_background": "light"
     },
     "output_type": "display_data"
    }
   ],
   "source": [
    "plt.scatter(x= combo[\"Date\"],y=combo[\"ORB\"])\n",
    "plt.xlabel(\"Game Date\")\n",
    "plt.ylabel(\"Offensive Rebounds\")\n",
    "plt.title(\"Offensive Rebounds vs. Game Date\")"
   ]
  },
  {
   "cell_type": "markdown",
   "metadata": {},
   "source": [
    "To start my exploratory analysis, I tried to visualize ORB vs. date to see if there was improvement over time. This improvement over time could show a link between increased offensive rebounding and wins. Just from observing, you can see that there is some improvement over the two seasons, but it seems uncorrelated within each season, as shown by the following scatter plot."
   ]
  },
  {
   "cell_type": "code",
   "execution_count": 6,
   "metadata": {},
   "outputs": [
    {
     "data": {
      "text/plain": [
       "Text(0.5, 1.0, 'Offensive Rebounds vs. Game Date')"
      ]
     },
     "execution_count": 6,
     "metadata": {},
     "output_type": "execute_result"
    },
    {
     "data": {
      "image/png": "[encoded data removed]",
      "text/plain": [
       "<Figure size 432x288 with 1 Axes>"
      ]
     },
     "metadata": {
      "needs_background": "light"
     },
     "output_type": "display_data"
    }
   ],
   "source": [
    "plt.scatter(x=season_2019[\"Date\"],y=season_2019[\"ORB\"])\n",
    "plt.xlabel(\"Game Date\")\n",
    "plt.ylabel(\"Offensive Rebounds\")\n",
    "plt.title(\"Offensive Rebounds vs. Game Date\")"
   ]
  },
  {
   "cell_type": "markdown",
   "metadata": {},
   "source": [
    "As this visualization shows, there is not a real link between Offensive rebounding and time in this situation, and any calculation involving these two statistics would prove that. Therefore, I moved on to offensive rebounds vs. wins and losses as that might be a better indicator for how Providence improved over the year, and show the correlation needed to prove a connection between turnarounds and offensive rebounding statistics."
   ]
  },
  {
   "cell_type": "code",
   "execution_count": 7,
   "metadata": {},
   "outputs": [
    {
     "data": {
      "text/plain": [
       "Text(0.5, 1.0, 'Offensive Rebounds vs. Game Result')"
      ]
     },
     "execution_count": 7,
     "metadata": {},
     "output_type": "execute_result"
    },
    {
     "data": {
      "image/png": "[encoded data removed]",
      "text/plain": [
       "<Figure size 432x288 with 1 Axes>"
      ]
     },
     "metadata": {
      "needs_background": "light"
     },
     "output_type": "display_data"
    }
   ],
   "source": [
    "plt.scatter(x=season_2019[\"W/L\"],y=season_2019[\"ORB\"])\n",
    "plt.xlabel(\"Game Result\")\n",
    "plt.ylabel(\"Offensive Rebounds\")\n",
    "plt.title(\"Offensive Rebounds vs. Game Result\")"
   ]
  },
  {
   "cell_type": "markdown",
   "metadata": {},
   "source": [
    "Once I saw that there was little correlation over one season in offensive rebounds vs time, I tried to compare offensive rebounds to wins and losses. Similarly there was little correlation over one season. "
   ]
  },
  {
   "cell_type": "code",
   "execution_count": 8,
   "metadata": {},
   "outputs": [
    {
     "data": {
      "text/plain": [
       "Text(0.5, 1.0, 'Total Rebounds vs. Game Result')"
      ]
     },
     "execution_count": 8,
     "metadata": {},
     "output_type": "execute_result"
    },
    {
     "data": {
      "image/png": "[encoded data removed]",
      "text/plain": [
       "<Figure size 432x288 with 1 Axes>"
      ]
     },
     "metadata": {
      "needs_background": "light"
     },
     "output_type": "display_data"
    }
   ],
   "source": [
    "plt.scatter(x=season_2019[\"W/L\"],y=season_2019[\"TRB\"])\n",
    "plt.xlabel(\"Game Result\")\n",
    "plt.ylabel(\"Total Rebounds\")\n",
    "plt.title(\"Total Rebounds vs. Game Result\")"
   ]
  },
  {
   "cell_type": "markdown",
   "metadata": {},
   "source": [
    "I then plotted wins and total rebounds and there seemed to be a stronger connection. I decided to attempt to calculate the difference in rebounds between PC and their opponent over each game to see if there was a stronger and more reliable connection there. "
   ]
  },
  {
   "cell_type": "code",
   "execution_count": 11,
   "metadata": {},
   "outputs": [
    {
     "data": {
      "text/plain": [
       "Text(0.5, 1.0, '2019 Rebounding Difference vs. Game Result')"
      ]
     },
     "execution_count": 11,
     "metadata": {},
     "output_type": "execute_result"
    },
    {
     "data": {
      "image/png": "[encoded data removed]",
      "text/plain": [
       "<Figure size 432x288 with 1 Axes>"
      ]
     },
     "metadata": {
      "needs_background": "light"
     },
     "output_type": "display_data"
    }
   ],
   "source": [
    "plt.scatter(x=season_2019[\"W/L\"],y=(season_2019[\"TRB\"]-season_2019[\"OTRB\"]))\n",
    "plt.xlabel(\"Game Result\")\n",
    "plt.ylabel(\"Rebounding Difference (Total - Opponent Total)\")\n",
    "plt.title(\"2019 Rebounding Difference vs. Game Result\")"
   ]
  },
  {
   "cell_type": "markdown",
   "metadata": {},
   "source": [
    "The comparison of rebounding difference and game result seemed to be stronger, so I decided to test that statistic over the combination data set. "
   ]
  },
  {
   "cell_type": "code",
   "execution_count": 10,
   "metadata": {},
   "outputs": [
    {
     "data": {
      "text/plain": [
       "Text(0.5, 1.0, 'Rebounding Difference vs. Game Result')"
      ]
     },
     "execution_count": 10,
     "metadata": {},
     "output_type": "execute_result"
    },
    {
     "data": {
      "image/png": "[encoded data removed]",
      "text/plain": [
       "<Figure size 432x288 with 1 Axes>"
      ]
     },
     "metadata": {
      "needs_background": "light"
     },
     "output_type": "display_data"
    }
   ],
   "source": [
    "plt.scatter(x=combo[\"W/L\"],y=combo[\"TRB\"]-combo[\"OTRB\"])\n",
    "plt.xlabel(\"Game Result\")\n",
    "plt.ylabel(\"Rebounding Difference (Total - Opponent Total)\")\n",
    "plt.title(\"Rebounding Difference vs. Game Result\")"
   ]
  },
  {
   "cell_type": "markdown",
   "metadata": {},
   "source": [
    "I then moved on to plotting the two seasons together, and I noticed that the correlation looked even stronger, so I created numerical variables for rebounding difference and wins and losses to test the actual correlation. This is to see if I could verify whether or not rebounding difference between teams was a good determinant for first of all winning and second of all turning a team around, as most of Providence's wins came from the later half of the second season in this data set. "
   ]
  },
  {
   "cell_type": "code",
   "execution_count": 8,
   "metadata": {},
   "outputs": [
    {
     "data": {
      "text/html": [
       "<div>\n",
       "<style scoped>\n",
       "    .dataframe tbody tr th:only-of-type {\n",
       "        vertical-align: middle;\n",
       "    }\n",
       "\n",
       "    .dataframe tbody tr th {\n",
       "        vertical-align: top;\n",
       "    }\n",
       "\n",
       "    .dataframe thead th {\n",
       "        text-align: right;\n",
       "    }\n",
       "</style>\n",
       "<table border=\"1\" class=\"dataframe\">\n",
       "  <thead>\n",
       "    <tr style=\"text-align: right;\">\n",
       "      <th></th>\n",
       "      <th>numeric</th>\n",
       "      <th>reb_diff</th>\n",
       "    </tr>\n",
       "    <tr>\n",
       "      <th>0</th>\n",
       "      <th></th>\n",
       "      <th></th>\n",
       "    </tr>\n",
       "  </thead>\n",
       "  <tbody>\n",
       "    <tr>\n",
       "      <th>numeric</th>\n",
       "      <td>1.000000</td>\n",
       "      <td>0.446805</td>\n",
       "    </tr>\n",
       "    <tr>\n",
       "      <th>reb_diff</th>\n",
       "      <td>0.446805</td>\n",
       "      <td>1.000000</td>\n",
       "    </tr>\n",
       "  </tbody>\n",
       "</table>\n",
       "</div>"
      ],
      "text/plain": [
       "0          numeric  reb_diff\n",
       "0                           \n",
       "numeric   1.000000  0.446805\n",
       "reb_diff  0.446805  1.000000"
      ]
     },
     "execution_count": 8,
     "metadata": {},
     "output_type": "execute_result"
    }
   ],
   "source": [
    "combo[[\"numeric\",\"reb_diff\"]].corr()"
   ]
  },
  {
   "cell_type": "markdown",
   "metadata": {},
   "source": [
    "While this correlation is not very strong, basketball statistics have very little variation, so rebounding numbers tend to be very similar over wins and losses. Therefore, a correlation or r of .45 is not bad in terms of basic game statistics."
   ]
  },
  {
   "cell_type": "code",
   "execution_count": 9,
   "metadata": {},
   "outputs": [
    {
     "data": {
      "text/html": [
       "<div>\n",
       "<style scoped>\n",
       "    .dataframe tbody tr th:only-of-type {\n",
       "        vertical-align: middle;\n",
       "    }\n",
       "\n",
       "    .dataframe tbody tr th {\n",
       "        vertical-align: top;\n",
       "    }\n",
       "\n",
       "    .dataframe thead th {\n",
       "        text-align: right;\n",
       "    }\n",
       "</style>\n",
       "<table border=\"1\" class=\"dataframe\">\n",
       "  <thead>\n",
       "    <tr style=\"text-align: right;\">\n",
       "      <th></th>\n",
       "      <th>numeric</th>\n",
       "      <th>TRB</th>\n",
       "    </tr>\n",
       "    <tr>\n",
       "      <th>0</th>\n",
       "      <th></th>\n",
       "      <th></th>\n",
       "    </tr>\n",
       "  </thead>\n",
       "  <tbody>\n",
       "    <tr>\n",
       "      <th>numeric</th>\n",
       "      <td>1.000000</td>\n",
       "      <td>0.225584</td>\n",
       "    </tr>\n",
       "    <tr>\n",
       "      <th>TRB</th>\n",
       "      <td>0.225584</td>\n",
       "      <td>1.000000</td>\n",
       "    </tr>\n",
       "  </tbody>\n",
       "</table>\n",
       "</div>"
      ],
      "text/plain": [
       "0         numeric       TRB\n",
       "0                          \n",
       "numeric  1.000000  0.225584\n",
       "TRB      0.225584  1.000000"
      ]
     },
     "execution_count": 9,
     "metadata": {},
     "output_type": "execute_result"
    }
   ],
   "source": [
    "combo[[\"numeric\",\"TRB\"]].corr()"
   ]
  },
  {
   "cell_type": "markdown",
   "metadata": {},
   "source": [
    "I just tested the correlation of total rebounds and wins to verify that rebounding differnce had a stronger correlation, which it does. "
   ]
  },
  {
   "cell_type": "code",
   "execution_count": 12,
   "metadata": {},
   "outputs": [
    {
     "data": {
      "text/plain": [
       "Text(0.5, 1.0, 'Opponent Field Goal Percentage vs. Game Result')"
      ]
     },
     "execution_count": 12,
     "metadata": {},
     "output_type": "execute_result"
    },
    {
     "data": {
      "image/png": "[encoded data removed]",
      "text/plain": [
       "<Figure size 432x288 with 1 Axes>"
      ]
     },
     "metadata": {
      "needs_background": "light"
     },
     "output_type": "display_data"
    }
   ],
   "source": [
    "plt.scatter(x=combo[\"numeric\"], y = combo[\"OFG%\"])\n",
    "plt.xlabel(\"Game Result (1 or 0)\")\n",
    "plt.ylabel(\"Opponent Field Goal Percentage\")\n",
    "plt.title(\"Opponent Field Goal Percentage vs. Game Result\")"
   ]
  },
  {
   "cell_type": "markdown",
   "metadata": {},
   "source": [
    "I then plotted wins vs opponent field goal percentage, as a simple way to test defensive efficiency, and there is a clear visual correlation.  "
   ]
  },
  {
   "cell_type": "code",
   "execution_count": 11,
   "metadata": {},
   "outputs": [
    {
     "data": {
      "text/html": [
       "<div>\n",
       "<style scoped>\n",
       "    .dataframe tbody tr th:only-of-type {\n",
       "        vertical-align: middle;\n",
       "    }\n",
       "\n",
       "    .dataframe tbody tr th {\n",
       "        vertical-align: top;\n",
       "    }\n",
       "\n",
       "    .dataframe thead th {\n",
       "        text-align: right;\n",
       "    }\n",
       "</style>\n",
       "<table border=\"1\" class=\"dataframe\">\n",
       "  <thead>\n",
       "    <tr style=\"text-align: right;\">\n",
       "      <th></th>\n",
       "      <th>numeric</th>\n",
       "      <th>OFG%</th>\n",
       "    </tr>\n",
       "    <tr>\n",
       "      <th>0</th>\n",
       "      <th></th>\n",
       "      <th></th>\n",
       "    </tr>\n",
       "  </thead>\n",
       "  <tbody>\n",
       "    <tr>\n",
       "      <th>numeric</th>\n",
       "      <td>1.000000</td>\n",
       "      <td>-0.628604</td>\n",
       "    </tr>\n",
       "    <tr>\n",
       "      <th>OFG%</th>\n",
       "      <td>-0.628604</td>\n",
       "      <td>1.000000</td>\n",
       "    </tr>\n",
       "  </tbody>\n",
       "</table>\n",
       "</div>"
      ],
      "text/plain": [
       "0         numeric      OFG%\n",
       "0                          \n",
       "numeric  1.000000 -0.628604\n",
       "OFG%    -0.628604  1.000000"
      ]
     },
     "execution_count": 11,
     "metadata": {},
     "output_type": "execute_result"
    }
   ],
   "source": [
    "combo[[\"numeric\",\"OFG%\"]].corr()"
   ]
  },
  {
   "cell_type": "markdown",
   "metadata": {},
   "source": [
    "The correlation test shows a decently strong negative correlation between opponent field goal percentage and wins, which makes sense."
   ]
  },
  {
   "cell_type": "code",
   "execution_count": 12,
   "metadata": {},
   "outputs": [
    {
     "data": {
      "text/html": [
       "<div>\n",
       "<style scoped>\n",
       "    .dataframe tbody tr th:only-of-type {\n",
       "        vertical-align: middle;\n",
       "    }\n",
       "\n",
       "    .dataframe tbody tr th {\n",
       "        vertical-align: top;\n",
       "    }\n",
       "\n",
       "    .dataframe thead th {\n",
       "        text-align: right;\n",
       "    }\n",
       "</style>\n",
       "<table border=\"1\" class=\"dataframe\">\n",
       "  <thead>\n",
       "    <tr style=\"text-align: right;\">\n",
       "      <th></th>\n",
       "      <th>index</th>\n",
       "      <th>RK</th>\n",
       "      <th>TEAM</th>\n",
       "      <th>CONF</th>\n",
       "      <th>G</th>\n",
       "      <th>W</th>\n",
       "      <th>ADJOE</th>\n",
       "      <th>ADJDE</th>\n",
       "      <th>BARTHAG</th>\n",
       "      <th>EFG_O</th>\n",
       "      <th>...</th>\n",
       "      <th>FTRD</th>\n",
       "      <th>2P_O</th>\n",
       "      <th>2P_D</th>\n",
       "      <th>3P_O</th>\n",
       "      <th>3P_D</th>\n",
       "      <th>ADJ_T</th>\n",
       "      <th>WAB</th>\n",
       "      <th>POSTSEASON</th>\n",
       "      <th>SEED</th>\n",
       "      <th>diff</th>\n",
       "    </tr>\n",
       "  </thead>\n",
       "  <tbody>\n",
       "    <tr>\n",
       "      <th>427</th>\n",
       "      <td>74</td>\n",
       "      <td>75</td>\n",
       "      <td>Creighton</td>\n",
       "      <td>BE</td>\n",
       "      <td>34</td>\n",
       "      <td>20</td>\n",
       "      <td>110.9</td>\n",
       "      <td>97.1</td>\n",
       "      <td>0.8229</td>\n",
       "      <td>56.2</td>\n",
       "      <td>...</td>\n",
       "      <td>27.9</td>\n",
       "      <td>55.7</td>\n",
       "      <td>52.9</td>\n",
       "      <td>37.9</td>\n",
       "      <td>35.0</td>\n",
       "      <td>70.1</td>\n",
       "      <td>-2.3</td>\n",
       "      <td>NaN</td>\n",
       "      <td>NaN</td>\n",
       "      <td>68.0</td>\n",
       "    </tr>\n",
       "    <tr>\n",
       "      <th>435</th>\n",
       "      <td>82</td>\n",
       "      <td>83</td>\n",
       "      <td>Dayton</td>\n",
       "      <td>A10</td>\n",
       "      <td>33</td>\n",
       "      <td>21</td>\n",
       "      <td>111.1</td>\n",
       "      <td>98.9</td>\n",
       "      <td>0.7915</td>\n",
       "      <td>56.1</td>\n",
       "      <td>...</td>\n",
       "      <td>23.8</td>\n",
       "      <td>59.5</td>\n",
       "      <td>47.7</td>\n",
       "      <td>33.2</td>\n",
       "      <td>32.1</td>\n",
       "      <td>66.1</td>\n",
       "      <td>-2.3</td>\n",
       "      <td>NaN</td>\n",
       "      <td>NaN</td>\n",
       "      <td>79.0</td>\n",
       "    </tr>\n",
       "    <tr>\n",
       "      <th>443</th>\n",
       "      <td>90</td>\n",
       "      <td>91</td>\n",
       "      <td>Providence</td>\n",
       "      <td>BE</td>\n",
       "      <td>34</td>\n",
       "      <td>18</td>\n",
       "      <td>104.3</td>\n",
       "      <td>95.0</td>\n",
       "      <td>0.7446</td>\n",
       "      <td>48.0</td>\n",
       "      <td>...</td>\n",
       "      <td>32.8</td>\n",
       "      <td>47.5</td>\n",
       "      <td>48.8</td>\n",
       "      <td>32.6</td>\n",
       "      <td>34.1</td>\n",
       "      <td>69.2</td>\n",
       "      <td>-3.4</td>\n",
       "      <td>NaN</td>\n",
       "      <td>NaN</td>\n",
       "      <td>66.0</td>\n",
       "    </tr>\n",
       "    <tr>\n",
       "      <th>444</th>\n",
       "      <td>91</td>\n",
       "      <td>92</td>\n",
       "      <td>Butler</td>\n",
       "      <td>BE</td>\n",
       "      <td>33</td>\n",
       "      <td>16</td>\n",
       "      <td>110.5</td>\n",
       "      <td>100.9</td>\n",
       "      <td>0.7394</td>\n",
       "      <td>52.1</td>\n",
       "      <td>...</td>\n",
       "      <td>36.3</td>\n",
       "      <td>51.4</td>\n",
       "      <td>52.2</td>\n",
       "      <td>35.3</td>\n",
       "      <td>35.7</td>\n",
       "      <td>67.2</td>\n",
       "      <td>-4.4</td>\n",
       "      <td>NaN</td>\n",
       "      <td>NaN</td>\n",
       "      <td>68.0</td>\n",
       "    </tr>\n",
       "    <tr>\n",
       "      <th>451</th>\n",
       "      <td>98</td>\n",
       "      <td>99</td>\n",
       "      <td>West Virginia</td>\n",
       "      <td>B12</td>\n",
       "      <td>36</td>\n",
       "      <td>15</td>\n",
       "      <td>108.8</td>\n",
       "      <td>100.7</td>\n",
       "      <td>0.7087</td>\n",
       "      <td>47.5</td>\n",
       "      <td>...</td>\n",
       "      <td>38.0</td>\n",
       "      <td>47.6</td>\n",
       "      <td>51.3</td>\n",
       "      <td>31.6</td>\n",
       "      <td>36.1</td>\n",
       "      <td>71.9</td>\n",
       "      <td>-3.7</td>\n",
       "      <td>NaN</td>\n",
       "      <td>NaN</td>\n",
       "      <td>83.0</td>\n",
       "    </tr>\n",
       "  </tbody>\n",
       "</table>\n",
       "<p>5 rows × 26 columns</p>\n",
       "</div>"
      ],
      "text/plain": [
       "     index  RK           TEAM CONF   G   W  ADJOE  ADJDE  BARTHAG  EFG_O  ...  \\\n",
       "427     74  75      Creighton   BE  34  20  110.9   97.1   0.8229   56.2  ...   \n",
       "435     82  83         Dayton  A10  33  21  111.1   98.9   0.7915   56.1  ...   \n",
       "443     90  91     Providence   BE  34  18  104.3   95.0   0.7446   48.0  ...   \n",
       "444     91  92         Butler   BE  33  16  110.5  100.9   0.7394   52.1  ...   \n",
       "451     98  99  West Virginia  B12  36  15  108.8  100.7   0.7087   47.5  ...   \n",
       "\n",
       "     FTRD  2P_O  2P_D  3P_O  3P_D  ADJ_T  WAB  POSTSEASON  SEED  diff  \n",
       "427  27.9  55.7  52.9  37.9  35.0   70.1 -2.3         NaN   NaN  68.0  \n",
       "435  23.8  59.5  47.7  33.2  32.1   66.1 -2.3         NaN   NaN  79.0  \n",
       "443  32.8  47.5  48.8  32.6  34.1   69.2 -3.4         NaN   NaN  66.0  \n",
       "444  36.3  51.4  52.2  35.3  35.7   67.2 -4.4         NaN   NaN  68.0  \n",
       "451  38.0  47.6  51.3  31.6  36.1   71.9 -3.7         NaN   NaN  83.0  \n",
       "\n",
       "[5 rows x 26 columns]"
      ]
     },
     "execution_count": 12,
     "metadata": {},
     "output_type": "execute_result"
    }
   ],
   "source": [
    "potential = total_rankings[total_rankings[\"diff\"]>65]\n",
    "potential_test = potential[potential[\"RK\"]<100]\n",
    "potential_test"
   ]
  },
  {
   "cell_type": "markdown",
   "metadata": {},
   "source": [
    "Next I wanted to see what teams made a similar jump in ranking to Providence College, so I checked which teams had a ranking difference over 65, and to make sure the team was competitive, I made sure their worst ranking was better than 100th in the nation."
   ]
  },
  {
   "cell_type": "markdown",
   "metadata": {},
   "source": [
    "With this set of 5 teams, I created a combination dataset of all of their advanced statistics or sabermetric statistics from 2 seasons ago to see if I could find a statistic which helped to predict their collective jump as a group of teams. The five teams I am working with are Creighton, Dayton, Providence, Butler, and West Virginia. Throughout the testing of the first hypothesis, I will be using the black marker to signify Providence, the red marker to signify Dayton, the blue marker to signify Butler, the green marker to signify Creighton, and finally the yellow marker to signify West Virginia."
   ]
  },
  {
   "cell_type": "markdown",
   "metadata": {},
   "source": [
    "## Hypothesis #1"
   ]
  },
  {
   "cell_type": "code",
   "execution_count": 19,
   "metadata": {
    "scrolled": true
   },
   "outputs": [
    {
     "data": {
      "image/png": "[encoded data removed]",
      "text/plain": [
       "<Figure size 432x288 with 1 Axes>"
      ]
     },
     "metadata": {
      "needs_background": "light"
     },
     "output_type": "display_data"
    }
   ],
   "source": [
    "colors = {\"P\":\"black\",\"D\":\"red\",\"B\":\"blue\",\"C\":\"green\",\"WV\":\"yellow\"}\n",
    "ax=plt.subplot()\n",
    "ax.scatter(x=advanced_combo[\"W/L\"],y=advanced_combo[\"ORB%\"],c=advanced_combo[\"OTeam\"].map(colors), alpha = .5)\n",
    "ax.title.set_text(\"Game Result v. Offensive Rebound Percentage\")\n",
    "ax.set_xlabel(\"Game Result\")\n",
    "ax.set_ylabel(\"Offensive Rebound Percentage\")\n",
    "plt.show()\n"
   ]
  },
  {
   "cell_type": "markdown",
   "metadata": {},
   "source": [
    "This graph shows a decent correlation between game result and offensive rebound percentage or the percent of offensive rebounds that a team got from the total possible rebounds they could have gotten at that end of the court."
   ]
  },
  {
   "cell_type": "code",
   "execution_count": 14,
   "metadata": {},
   "outputs": [
    {
     "data": {
      "text/plain": [
       "0.5029239766081871"
      ]
     },
     "execution_count": 14,
     "metadata": {},
     "output_type": "execute_result"
    }
   ],
   "source": [
    "fit = LogisticRegression().fit(advanced_combo[[\"ORB%\"]],advanced_combo[\"numeric\"])\n",
    "fit.score(advanced_combo[[\"ORB%\"]],advanced_combo[\"numeric\"])"
   ]
  },
  {
   "cell_type": "markdown",
   "metadata": {},
   "source": [
    "As predicted, the logistic regression was able to accurately predict around 50% of game results given Offensive rebounding percentage, which is decent, but in terms of a binary variable like wins and losses, I would hope for a better correlation between a predictive statistic and game result. "
   ]
  },
  {
   "cell_type": "code",
   "execution_count": 20,
   "metadata": {},
   "outputs": [
    {
     "data": {
      "image/png": "[encoded data removed]",
      "text/plain": [
       "<Figure size 432x288 with 1 Axes>"
      ]
     },
     "metadata": {
      "needs_background": "light"
     },
     "output_type": "display_data"
    }
   ],
   "source": [
    "colors = {\"P\":\"black\",\"D\":\"red\",\"B\":\"blue\",\"C\":\"green\",\"WV\":\"yellow\"}\n",
    "ax=plt.subplot()\n",
    "ax.scatter(x=advanced_combo[\"W/L\"],y=advanced_combo[\"DRtg\"],c=advanced_combo[\"OTeam\"].map(colors), alpha = .5)\n",
    "ax.title.set_text(\"Game Result v. Defensive Rating\")\n",
    "ax.set_xlabel(\"Game Result\")\n",
    "ax.set_ylabel(\"Defensive RTG\")\n",
    "plt.show()"
   ]
  },
  {
   "cell_type": "markdown",
   "metadata": {},
   "source": [
    "Next, I tested game result versus Deffensive rating which is calculated by seeing how many points the opposing team would score in 100 possessions. Therefore the negative correlation between wins and deffensive rating is what we expect when visualizing this data. "
   ]
  },
  {
   "cell_type": "code",
   "execution_count": 28,
   "metadata": {},
   "outputs": [
    {
     "data": {
      "text/plain": [
       "0.7602339181286549"
      ]
     },
     "execution_count": 28,
     "metadata": {},
     "output_type": "execute_result"
    }
   ],
   "source": [
    "fit2 = LogisticRegression().fit(advanced_combo[[\"DRtg\"]],advanced_combo[\"numeric\"])\n",
    "fit2.score(advanced_combo[[\"DRtg\"]],advanced_combo[\"numeric\"])"
   ]
  },
  {
   "cell_type": "markdown",
   "metadata": {},
   "source": [
    "The logistic regression was able to predict about 76% of game results correctly given deffensive rating, which is a much better result than seen with offensive rebounding percentage. Obviously you are never going to get a perfect predictor of game results, so 76% is quite strong. This result is important because it gives credance to the hypothesis that teams with good deffensive ratings in their wins will most likely beat expectations in the coming year."
   ]
  },
  {
   "cell_type": "code",
   "execution_count": 21,
   "metadata": {
    "scrolled": true
   },
   "outputs": [
    {
     "data": {
      "image/png": "[encoded data removed]",
      "text/plain": [
       "<Figure size 432x288 with 1 Axes>"
      ]
     },
     "metadata": {
      "needs_background": "light"
     },
     "output_type": "display_data"
    }
   ],
   "source": [
    "colors = {\"P\":\"black\",\"D\":\"red\",\"B\":\"blue\",\"C\":\"green\",\"WV\":\"yellow\"}\n",
    "ax=plt.subplot()\n",
    "ax.scatter(x=advanced_combo[\"W/L\"],y=advanced_combo[\"TRB%\"],c=advanced_combo[\"OTeam\"].map(colors), alpha = .5)\n",
    "ax.title.set_text(\"Game Result v. Total Rebound Percentage\")\n",
    "ax.set_xlabel(\"Game Result\")\n",
    "ax.set_ylabel(\"Total Rebound Percentage\")\n",
    "plt.show()"
   ]
  },
  {
   "cell_type": "markdown",
   "metadata": {},
   "source": [
    "Next, I looked at game result versus total rebounding percentage which is the same as offensive rebounding percentage, but it includes rebounds on both ends of the floor instead of just one. This, visually, also seemed to be a good predictor of game results, so I decided to test the predictive ability of total rebound percentage."
   ]
  },
  {
   "cell_type": "code",
   "execution_count": 27,
   "metadata": {
    "scrolled": true
   },
   "outputs": [
    {
     "data": {
      "text/plain": [
       "0.7017543859649122"
      ]
     },
     "execution_count": 27,
     "metadata": {},
     "output_type": "execute_result"
    }
   ],
   "source": [
    "fit3 = LogisticRegression().fit(advanced_combo[[\"TRB%\"]],advanced_combo[\"numeric\"])\n",
    "fit3.score(advanced_combo[[\"TRB%\"]],advanced_combo[\"numeric\"])"
   ]
  },
  {
   "cell_type": "markdown",
   "metadata": {},
   "source": [
    "The logistic regression when given total rebounding percentage was able to predict game results with a 70% accuracy, which again is better than offensive rebounds, but not as good as deffensive rating or efficiency. With this result, we can say that when teams beat expectations, they often have impressive total rebounding percentages in their wins in the previous year."
   ]
  },
  {
   "cell_type": "code",
   "execution_count": 19,
   "metadata": {},
   "outputs": [
    {
     "data": {
      "text/plain": [
       "array([[-0.11571597]])"
      ]
     },
     "execution_count": 19,
     "metadata": {},
     "output_type": "execute_result"
    }
   ],
   "source": [
    "fit2.coef_"
   ]
  },
  {
   "cell_type": "markdown",
   "metadata": {},
   "source": [
    "This is the slope of the best fit line of the logistic regression of deffensive efficiency and game result. This is a promising result because first of all we are expecting a negative correlation between these two statistics, and it shows that one outlier or incredible defensive performance is not skewing the data, but instead, it shows that most of the results are generally the same, but better deffensive performances are slightly more likely to result in a win, which is exactly what you expect given the low variation of certain statistics in basketball. "
   ]
  },
  {
   "cell_type": "code",
   "execution_count": 20,
   "metadata": {},
   "outputs": [
    {
     "data": {
      "text/plain": [
       "array([[0.17985684]])"
      ]
     },
     "execution_count": 20,
     "metadata": {},
     "output_type": "execute_result"
    }
   ],
   "source": [
    "fit3.coef_"
   ]
  },
  {
   "cell_type": "markdown",
   "metadata": {},
   "source": [
    "This is the slope of the best fit line of the logistic regression of total rebounding percentage and game result. Similarly to the last result, this result is positive because it shows that our predictive abilities from total rebounding percentage are not skewed by one really good rebounding performance in a win, but instead, it shows that all of the rebounding statistics from game to game are similar, but there is a slight rise in wins which you would expect given the low variation of statistics in basketball."
   ]
  },
  {
   "cell_type": "code",
   "execution_count": 22,
   "metadata": {
    "scrolled": true
   },
   "outputs": [
    {
     "data": {
      "image/png": "[encoded data removed]",
      "text/plain": [
       "<Figure size 432x288 with 1 Axes>"
      ]
     },
     "metadata": {
      "needs_background": "light"
     },
     "output_type": "display_data"
    }
   ],
   "source": [
    "colors = {\"P\":\"black\",\"D\":\"red\",\"B\":\"blue\",\"C\":\"green\",\"WV\":\"yellow\"}\n",
    "ax=plt.subplot()\n",
    "ax.scatter(x=advanced_combo[\"W/L\"],y=advanced_combo[\"OTOV%\"],c=advanced_combo[\"OTeam\"].map(colors), alpha = .5)\n",
    "ax.title.set_text(\"Game Result v. Opponent Turnover Percentage\")\n",
    "ax.set_xlabel(\"Game Result\")\n",
    "ax.set_ylabel(\"Opponent Turnover %\")\n",
    "plt.show()"
   ]
  },
  {
   "cell_type": "markdown",
   "metadata": {},
   "source": [
    "I then decided to analyze the four statistics that go into deffensive rating to see if any one specfically stood out in terms of predictive ability in wins. From this graph, you can see a decent correlation between game result and opponent turnover percentage or the amount of possessions that ended in turnovers over all possessions. "
   ]
  },
  {
   "cell_type": "code",
   "execution_count": 22,
   "metadata": {},
   "outputs": [
    {
     "data": {
      "text/plain": [
       "0.5672514619883041"
      ]
     },
     "execution_count": 22,
     "metadata": {},
     "output_type": "execute_result"
    }
   ],
   "source": [
    "fit4 = LogisticRegression().fit(advanced_combo[[\"OTOV%\"]],advanced_combo[\"numeric\"])\n",
    "fit4.score(advanced_combo[[\"OTOV%\"]],advanced_combo[\"numeric\"])"
   ]
  },
  {
   "cell_type": "markdown",
   "metadata": {},
   "source": [
    "The logistic regression was only able to predict the game result based off of opponent turnover percentage 56% of the time, which while better than 50%, is not strong enough to really conclude anything about the effect opponent turnover rate has on game result and then team turnarounds in general."
   ]
  },
  {
   "cell_type": "code",
   "execution_count": 23,
   "metadata": {
    "scrolled": true
   },
   "outputs": [
    {
     "data": {
      "image/png": "[encoded data removed]",
      "text/plain": [
       "<Figure size 432x288 with 1 Axes>"
      ]
     },
     "metadata": {
      "needs_background": "light"
     },
     "output_type": "display_data"
    }
   ],
   "source": [
    "colors = {\"P\":\"black\",\"D\":\"red\",\"B\":\"blue\",\"C\":\"green\",\"WV\":\"yellow\"}\n",
    "ax=plt.subplot()\n",
    "ax.scatter(x=advanced_combo[\"W/L\"],y=advanced_combo[\"OeFG%\"],c=advanced_combo[\"OTeam\"].map(colors), alpha = .5)\n",
    "ax.title.set_text(\"Game Result v. Opponent Effective Field Goal Percentage\")\n",
    "ax.set_xlabel(\"Game Result\")\n",
    "ax.set_ylabel(\"Opponent Effective Field Goal %\")\n",
    "plt.show()"
   ]
  },
  {
   "cell_type": "markdown",
   "metadata": {},
   "source": [
    "Next I looked at the connection between opponent effective field goal percentage, which accounts for the fact that three point shots count for more, so they are given more cushion when calculating this percentage, versus game result. Visually there is a decent negative correlation between game result and opponent effective field goal percentage. Opponent effective field goal percentage is the second indicator in deffensive rating. "
   ]
  },
  {
   "cell_type": "code",
   "execution_count": 24,
   "metadata": {},
   "outputs": [
    {
     "data": {
      "text/plain": [
       "0.6842105263157895"
      ]
     },
     "execution_count": 24,
     "metadata": {},
     "output_type": "execute_result"
    }
   ],
   "source": [
    "fit5 = LogisticRegression().fit(advanced_combo[[\"OeFG%\"]],advanced_combo[\"numeric\"])\n",
    "fit5.score(advanced_combo[[\"OeFG%\"]],advanced_combo[\"numeric\"])"
   ]
  },
  {
   "cell_type": "markdown",
   "metadata": {},
   "source": [
    "When I plugged these two statistics into the logistic regression, however, the regression was only able to predict 68% of the results, which while decent is not enough to conclude anything about the correlation between game result and opponent effective field goal percentage or the opponent's effective field goal percentage and a team's turnaround the following year."
   ]
  },
  {
   "cell_type": "code",
   "execution_count": 24,
   "metadata": {},
   "outputs": [
    {
     "data": {
      "image/png": "[encoded data removed]",
      "text/plain": [
       "<Figure size 432x288 with 1 Axes>"
      ]
     },
     "metadata": {
      "needs_background": "light"
     },
     "output_type": "display_data"
    }
   ],
   "source": [
    "colors = {\"P\":\"black\",\"D\":\"red\",\"B\":\"blue\",\"C\":\"green\",\"WV\":\"yellow\"}\n",
    "ax=plt.subplot()\n",
    "ax.scatter(x=advanced_combo[\"W/L\"],y=advanced_combo[\"ODRB%\"],c=advanced_combo[\"OTeam\"].map(colors), alpha = .5)\n",
    "ax.title.set_text(\"Game Result v. Defensive Rebound Percentage\")\n",
    "ax.set_xlabel(\"Game Result\")\n",
    "ax.set_ylabel(\"Defensive Rebound %\")\n",
    "plt.show()"
   ]
  },
  {
   "cell_type": "markdown",
   "metadata": {},
   "source": [
    "Next, I looked at deffensive rebounding percentage and game result to see if there was a correlation between the third in depth statistic which is an indicator of defesnive rating. Defensive rebounding percentage is the same as offensive rebounding percentage, just it occurs on the opposite side of the floor. Visualy, there is a decent correlation between defensive rebounding percentage and game result."
   ]
  },
  {
   "cell_type": "code",
   "execution_count": 26,
   "metadata": {},
   "outputs": [
    {
     "data": {
      "text/plain": [
       "0.6198830409356725"
      ]
     },
     "execution_count": 26,
     "metadata": {},
     "output_type": "execute_result"
    }
   ],
   "source": [
    "fit6 = LogisticRegression().fit(advanced_combo[[\"ODRB%\"]],advanced_combo[\"numeric\"])\n",
    "fit6.score(advanced_combo[[\"ODRB%\"]],advanced_combo[\"numeric\"])"
   ]
  },
  {
   "cell_type": "markdown",
   "metadata": {},
   "source": [
    "Once I plugged these statistics into the logistic regression however, the regression was only able to predict game result 62% of the time when given deffensive rebounding percentage, which is better than completely random, but again is not enough to make any conclusions based off of the given statistic."
   ]
  },
  {
   "cell_type": "code",
   "execution_count": 25,
   "metadata": {
    "scrolled": false
   },
   "outputs": [
    {
     "data": {
      "image/png": "[encoded data removed]",
      "text/plain": [
       "<Figure size 432x288 with 1 Axes>"
      ]
     },
     "metadata": {
      "needs_background": "light"
     },
     "output_type": "display_data"
    }
   ],
   "source": [
    "colors = {\"P\":\"black\",\"D\":\"red\",\"B\":\"blue\",\"C\":\"green\",\"WV\":\"yellow\"}\n",
    "ax=plt.subplot()\n",
    "ax.scatter(x=advanced_combo[\"W/L\"],y=advanced_combo[\"OFT/FGA\"],c=advanced_combo[\"OTeam\"].map(colors), alpha = .5)\n",
    "ax.title.set_text(\"Game Result v. Opponent Free Throw/Field Goal Attempts\")\n",
    "ax.set_xlabel(\"Game Result\")\n",
    "ax.set_ylabel(\"Opponent Free Throw/Field Goal Attempts\")\n",
    "plt.show()"
   ]
  },
  {
   "cell_type": "markdown",
   "metadata": {},
   "source": [
    "Then, I looked at the final indicator of deffensive rating, Opponent Free Throws over field goal attempts, versus game result. This statistic looks at the percentage of shots which a shooting foul occurs which is a good indicator for defensive rating. Again there is a decently strong visual correlation between opponent free throws per field goal attempts. "
   ]
  },
  {
   "cell_type": "code",
   "execution_count": 28,
   "metadata": {},
   "outputs": [
    {
     "data": {
      "text/plain": [
       "0.6608187134502924"
      ]
     },
     "execution_count": 28,
     "metadata": {},
     "output_type": "execute_result"
    }
   ],
   "source": [
    "fit7 = LogisticRegression().fit(advanced_combo[[\"OFT/FGA\"]],advanced_combo[\"numeric\"])\n",
    "fit7.score(advanced_combo[[\"OFT/FGA\"]],advanced_combo[\"numeric\"])"
   ]
  },
  {
   "cell_type": "markdown",
   "metadata": {},
   "source": [
    "The logistic regression, when given opponent free throws per field goal attempts and game result only correctly predicted game result 66% of the time. Again this is better than a completely random guess at the statistic, but it is still not very strong when predicting a binary statistic. Therefore we cannot make a conclusion about any of the indicator statistics individually and their effect on game results."
   ]
  },
  {
   "cell_type": "markdown",
   "metadata": {},
   "source": [
    "## Test of The Significance of the Defensive Rating "
   ]
  },
  {
   "cell_type": "code",
   "execution_count": 75,
   "metadata": {},
   "outputs": [],
   "source": [
    "defensive_rtg_avg = 97.93 ##from sports reference big east table"
   ]
  },
  {
   "cell_type": "markdown",
   "metadata": {},
   "source": [
    "Just as a note for the block below, I had to take the season long defensive ratings from sports reference because defensive rating for a season is not just an average of each game, but weighted by each possesion which shifts from game to game."
   ]
  },
  {
   "cell_type": "code",
   "execution_count": 83,
   "metadata": {},
   "outputs": [],
   "source": [
    "##Season long defensive ratings:\n",
    "P_defensive_rtg = 94.7 ##providence\n",
    "C_defensive_rtg = 99.3 ##creighton\n",
    "B_defensive_rtg = 95.8 ##butler\n",
    "D_defensive_rtg = 93.9 ##dayton\n",
    "WV_defensive_rtg = 89.6 ##west virginia"
   ]
  },
  {
   "cell_type": "code",
   "execution_count": 84,
   "metadata": {},
   "outputs": [],
   "source": [
    "season_length = 31"
   ]
  },
  {
   "cell_type": "markdown",
   "metadata": {},
   "source": [
    "I chose a poisson distribution to test the significance of each rating because, in general, basketball statistics follow poisson distributions."
   ]
  },
  {
   "cell_type": "code",
   "execution_count": 87,
   "metadata": {},
   "outputs": [],
   "source": [
    "sd = np.sqrt(defensive_rtg_avg)/31 ## setting up a standard deviation for the normal season"
   ]
  },
  {
   "cell_type": "code",
   "execution_count": 89,
   "metadata": {},
   "outputs": [
    {
     "name": "stdout",
     "output_type": "stream",
     "text": [
      "False\n",
      "True\n",
      "False\n",
      "False\n",
      "False\n"
     ]
    }
   ],
   "source": [
    "print(defensive_rtg_avg-sd*3 < P_defensive_rtg)\n",
    "print(defensive_rtg_avg-sd*3 < C_defensive_rtg)\n",
    "print(defensive_rtg_avg-sd*3 < B_defensive_rtg)\n",
    "print(defensive_rtg_avg-sd*3 < D_defensive_rtg)\n",
    "print(defensive_rtg_avg-sd*3 < WV_defensive_rtg)"
   ]
  },
  {
   "cell_type": "markdown",
   "metadata": {},
   "source": [
    "For all of the teams, except for Creighton, their defensive ratings are statistically significant when compared to the average of a defensively strong division, in the Big East. "
   ]
  },
  {
   "cell_type": "markdown",
   "metadata": {},
   "source": [
    "## Hypothesis #2"
   ]
  },
  {
   "cell_type": "markdown",
   "metadata": {},
   "source": [
    "Next, I started working on whether or not the improvements of any specific player made a difference in Providence's season. Specifically I wanted to look at players who had improved at Total rebounding percentage and deffensive rating, but since deffensive rating is a team only statistic, I was only able to look at improvements in Total rebounding percentage."
   ]
  },
  {
   "cell_type": "markdown",
   "metadata": {},
   "source": [
    "To determine which players to look at, I took the top four players in terms of the total rebounding percentage which happened to be Alpha Diallo, Kalif Young, Nate Watson, and Emmit Holt.  "
   ]
  },
  {
   "cell_type": "code",
   "execution_count": 41,
   "metadata": {},
   "outputs": [
    {
     "name": "stdout",
     "output_type": "stream",
     "text": [
      "13.0 13.6 13.4 13.3\n"
     ]
    }
   ],
   "source": [
    "AD_reb, KY_reb, NW_reb, EH_reb = rebounders[\"TRB%\"]\n",
    "print(AD_reb, KY_reb, NW_reb, EH_reb)"
   ]
  },
  {
   "cell_type": "code",
   "execution_count": 30,
   "metadata": {},
   "outputs": [],
   "source": [
    "AD_avg = 12.1\n",
    "KY_avg = 14.1\n",
    "NW_avg = 11.6\n",
    "EH_avg = 12.5 "
   ]
  },
  {
   "cell_type": "markdown",
   "metadata": {},
   "source": [
    "Then I found their total rebounding percentage from the 2019 season and confirmed that it was larger than their previous season and average over their careers. This was true for all of the players except for Kalif Young whose average total rebounding percentage was 14% which is greater than his rebounding percentage from 2019 of 13.6%"
   ]
  },
  {
   "cell_type": "code",
   "execution_count": 31,
   "metadata": {},
   "outputs": [],
   "source": [
    "AD_games = 130/4\n",
    "NW_games = 96/3\n",
    "EH_games = 94/4"
   ]
  },
  {
   "cell_type": "markdown",
   "metadata": {},
   "source": [
    "I then found the average games for each player so that I could accurately simulate a season which related to their average playing time over a season. I used total games played and total years played to determine these average games in a season"
   ]
  },
  {
   "cell_type": "code",
   "execution_count": 32,
   "metadata": {},
   "outputs": [],
   "source": [
    "AD_season_mean = np.zeros(1000)\n",
    "for i in range(1000):\n",
    "    AD_season_mean[i]=np.random.poisson(AD_avg,size = int(AD_games)).mean()\n",
    "NW_season_mean = np.zeros(1000)\n",
    "for i in range(1000):\n",
    "    NW_season_mean[i]=np.random.poisson(NW_avg,size=int(NW_games)).mean()\n",
    "EH_season_mean = np.zeros(1000)\n",
    "for i in range(1000):\n",
    "    EH_season_mean[i]=np.random.poisson(EH_avg,size=int(EH_games)).mean()"
   ]
  },
  {
   "cell_type": "markdown",
   "metadata": {},
   "source": [
    "I then simulated 1000 seasons for each player following a poisson distribution and having their average total rebounding percentage as the lambda. I assumed their statistics followed a poisson distribution as most basketball statistics do especially those regarding rebounds, given I was not able to take the individual game total rebound percentage, and three or four years of data is too small to accurately determine which distribution a set of data fits. "
   ]
  },
  {
   "cell_type": "code",
   "execution_count": 33,
   "metadata": {
    "scrolled": true
   },
   "outputs": [
    {
     "data": {
      "text/plain": [
       "<function matplotlib.pyplot.show(*args, **kw)>"
      ]
     },
     "execution_count": 33,
     "metadata": {},
     "output_type": "execute_result"
    },
    {
     "data": {
      "image/png": "[encoded data removed]",
      "text/plain": [
       "<Figure size 432x288 with 1 Axes>"
      ]
     },
     "metadata": {
      "needs_background": "light"
     },
     "output_type": "display_data"
    }
   ],
   "source": [
    "plt.hist(AD_season_mean,bins=30)\n",
    "plt.show"
   ]
  },
  {
   "cell_type": "code",
   "execution_count": 34,
   "metadata": {},
   "outputs": [
    {
     "data": {
      "text/plain": [
       "<function matplotlib.pyplot.show(*args, **kw)>"
      ]
     },
     "execution_count": 34,
     "metadata": {},
     "output_type": "execute_result"
    },
    {
     "data": {
      "image/png": "[encoded data removed]",
      "text/plain": [
       "<Figure size 432x288 with 1 Axes>"
      ]
     },
     "metadata": {
      "needs_background": "light"
     },
     "output_type": "display_data"
    }
   ],
   "source": [
    "plt.hist(EH_season_mean,bins=30)\n",
    "plt.show"
   ]
  },
  {
   "cell_type": "code",
   "execution_count": 35,
   "metadata": {
    "scrolled": true
   },
   "outputs": [
    {
     "data": {
      "text/plain": [
       "<function matplotlib.pyplot.show(*args, **kw)>"
      ]
     },
     "execution_count": 35,
     "metadata": {},
     "output_type": "execute_result"
    },
    {
     "data": {
      "image/png": "[encoded data removed]",
      "text/plain": [
       "<Figure size 432x288 with 1 Axes>"
      ]
     },
     "metadata": {
      "needs_background": "light"
     },
     "output_type": "display_data"
    }
   ],
   "source": [
    "plt.hist(NW_season_mean,bins=30)\n",
    "plt.show"
   ]
  },
  {
   "cell_type": "markdown",
   "metadata": {},
   "source": [
    "I then printed all of their distributions of 1000 simulations of total rebounding percentage in a season, and visually at least, each of Diallo's, Watson's, and Holt's seasons seemed to be outliers when compared to the graphs of 1000 simulated seasons. "
   ]
  },
  {
   "cell_type": "code",
   "execution_count": 38,
   "metadata": {},
   "outputs": [],
   "source": [
    "AD_sd = np.sqrt(AD_avg)/int(AD_games)\n",
    "EH_sd = np.sqrt(EH_avg)/int(EH_games)\n",
    "NW_sd = np.sqrt(NW_avg)/int(NW_games)"
   ]
  },
  {
   "cell_type": "markdown",
   "metadata": {},
   "source": [
    "Then I calculated the standard deviations to see if there was a statistical significance in the difference between each players' rebounding statistics for this season and their average. "
   ]
  },
  {
   "cell_type": "code",
   "execution_count": 37,
   "metadata": {
    "scrolled": true
   },
   "outputs": [
    {
     "data": {
      "text/plain": [
       "12.426109883704864"
      ]
     },
     "execution_count": 37,
     "metadata": {},
     "output_type": "execute_result"
    }
   ],
   "source": [
    "AD_avg+(AD_sd*3)"
   ]
  },
  {
   "cell_type": "code",
   "execution_count": 39,
   "metadata": {},
   "outputs": [
    {
     "data": {
      "text/plain": [
       "12.96115659642601"
      ]
     },
     "execution_count": 39,
     "metadata": {},
     "output_type": "execute_result"
    }
   ],
   "source": [
    "EH_avg+(EH_sd*3)"
   ]
  },
  {
   "cell_type": "code",
   "execution_count": 40,
   "metadata": {},
   "outputs": [
    {
     "data": {
      "text/plain": [
       "11.91930099436112"
      ]
     },
     "execution_count": 40,
     "metadata": {},
     "output_type": "execute_result"
    }
   ],
   "source": [
    "NW_avg+(NW_sd*3)"
   ]
  },
  {
   "cell_type": "markdown",
   "metadata": {},
   "source": [
    "Through this calculation, you can see that all three players' total rebounding percentage falls outside of three standard deviations away from their mean season when 1000 seasons are simulated. Therefore we can conclude that all three players have had a better year than normal in terms of total rebounding percentage which most definitely has helped in Providence College's turnaround over the season."
   ]
  },
  {
   "cell_type": "markdown",
   "metadata": {},
   "source": [
    "*Evaluation of Significance:* <br />\n",
    "For the team general statistics, I set the minimum predictive accuracy at 70% because while predicting game results off of one basketball statistic is challenging, wins and losses are binary statistics so over 2/3rds accuracy should be achieved when a statistic actually has a solid predictive capability. Also, the coefficients for both total rebounding percentage show that these results are not random or skewed by one game but slight yet noticeable differences in statistics given a win or a loss. To prove its significance, I tested the statistical significance of the defensive rating of each of the five teams, and they were all statistically significant at the .001 significance level bar Creighton. <br/> \n",
    "<br /> \n",
    "For the player specific statistics, I set the alpha value for the hypothesis test at .001 because I wanted to be very strict given the small sample size of seasons for each player. Even with this strict alpha value, each player's growth was statistically significant."
   ]
  },
  {
   "cell_type": "markdown",
   "metadata": {},
   "source": [
    "*Conclusion:* <br />\n",
    "While not entirely conclusive, the evidence from this analysis shows that teams which experience a turnaround generally have strong correlations between their deffensive performaces and wins, and rebounding performances and wins in the season before their turnaround. The 76% and 70% prediction accuracy respectively for these two statistics is quite strong given they are basketball statistics, and point towards the idea that teams with solid defensive and rebounding foundations will experience turnarounds in the coming years. Similarly, the evidence from the analysis of the players shows that teams that experience a turnaround are likely to have multiple players who have statistically significant improvements in rebounding statistics.  "
   ]
  },
  {
   "cell_type": "markdown",
   "metadata": {},
   "source": [
    "Data Limitations: <br /> \n",
    "I was able to find sabermetric tables for Providence as well as the other picked teams, so there were no limitations from the team dataset point of view. From the player dataset point of view, though, there were no compilations of game by game sabermetric statistics, only season long sabermetric statistics, and these statistics are not calculatable from basic statistics, so I was forced to work with year long averages only. <br /> \n",
    "<br />\n",
    "In terms of testing the significance of my findings, I could only find the season long defensive effeciency of the 5 teams, and not their season long total rebound percentage, so I could not test the significance of those statistics.\n",
    "\n",
    "For the NCAA Rankings, there are a couple of limitations. First, the rankings are not NCAA net rankings (I got those directly from NCAA archive of rankings for the introduction), but instead they are barttovik's power rankings. While these do take into account results, they are also based off of offensive and defensive efficiency, which means they could have some natural correlation with the basic statistics. This would be a massive problem if I were using that dataset to test the correlation between success and statistics, but I am planning on only using that dataset to determine the teams that have made ranking jumps, so that I can acquire and then analyse the statistics for that team specifically. Otherwise, this dataset is very well compiled and cleaned, so thank you to Andrew Sundberg."
   ]
  },
  {
   "cell_type": "markdown",
   "metadata": {},
   "source": [
    "*Appendix:* <br />\n",
    "<br />\n",
    "*Data Cleaning*: <br />\n",
    "I downloaded most of my data into excel, so there was a decent amount of data cleaning required. First things firs, I had to rename the columns and drop the first row because the panda.read did not interpret the column names as column names, but as the first row instead. After that, I reset the index of the data frame then went forward. For the providence college data sets, I had multiple either empty columns or columns with no name, so I hard coded the name in by counting to see the index of each missing column, and then either renamed the column or dropped it. Next, The game site column had empty values instead of saying home, so I filled the empty values with home and I left the other values as @ (away) and N (neutral). I then fixed the column names by changing the opponent's stats to have O infront of all of the column names. Next, I created a combo dataframe as to better compare the two seasons together/ the changes over time. Then I created a couple new stats to help me specifically test rebounds against wins. Finally, I made sure all applicable stats were floats instead of objects so that I could actually test their correlation with wins and losses. <br /> \n",
    "<br /> \n",
    "Next, I downloaded season rankings (2018 and 2019 seasons) from kaggle, put them together, reset the index, then created a new column which showed the difference in rank over the two years, so that I can find what other teams to analyse. <br />\n",
    "<br />\n",
    "**Update:** I downloaded a new set of 5 teams and their Sabermetric statistics from the 2019-2020 season. I downloaded these datasets to excel and basically followed the same plan from the first set of season long data. After renaming the columns for each of the 5 datasets and doing the macro cleaning (ie: making a column to serve as a marker for each team and deleting the empty columns so each dataset fits with one another, I put them all together into one dataset, so I could actually do some analysis. Once I had this compiled dataset, I renamed the columns which held opponent or defensive information to differentiate those columns from the offensive information. Finally, I changed all of the data to floats and strings instead of objects so I could actually run analysis. <br /> \n",
    "<br />\n",
    "For the player data set, I downloaded the sabermetric data for the players on Providence in the 2019-2020 season, and then just created a new column to rank the rebounding metrics for each player, so that I could select the 4 best preforming rebounders during my data analysis to see if they had a statistically significant year in terms of rebounding. "
   ]
  }
 ],
 "metadata": {
  "kernelspec": {
   "display_name": "Python 3",
   "language": "python",
   "name": "python3"
  },
  "language_info": {
   "codemirror_mode": {
    "name": "ipython",
    "version": 3
   },
   "file_extension": ".py",
   "mimetype": "text/x-python",
   "name": "python",
   "nbconvert_exporter": "python",
   "pygments_lexer": "ipython3",
   "version": "3.8.3"
  }
 },
 "nbformat": 4,
 "nbformat_minor": 4
}
